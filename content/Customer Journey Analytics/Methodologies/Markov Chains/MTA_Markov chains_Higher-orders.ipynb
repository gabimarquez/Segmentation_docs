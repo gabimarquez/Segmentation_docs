{
 "cells": [
  {
   "cell_type": "markdown",
   "metadata": {},
   "source": [
    "<h1>Comparison of Markov Chain Orders in Multi-Touch Attribution</h1>\n",
    "\n",
    "The purpose of this notebook is to demonstrate different approaches in order estimation of Markov chain models. Modeling a dynamic systme such as customer journey analyses by Markov chains always requires an assumption on the order of the Markov chain. The order in Markov chain govern how much history is needed when evaluating a transition probability from one state into another. In first-order Markov chains, the transition probability is independent of previous history and only depends on the current state. In higher-order Markov chains, previous states play a role in determining transition probabilities. Order of a Markov chain will decide how far it is needed to look back at a customer journey given the current state to determine transition probabilities to future states."
   ]
  },
  {
   "cell_type": "markdown",
   "metadata": {},
   "source": [
    "## 1. Introduction <a name=\"se:intro\"></a>\n",
    "\n",
    "In higher order Markov chains, transition probabilities depend on the information prior to current state. The definition of `state` remains similar to first-order Markov chains which are described in [Multi-Touch Attribution with First-Order Markov Chains](#https://blend360-measurement-library.readthedocs-hosted.com/en/latest/content/Customer%20Journey%20Analytics/Methodologies/Markov%20Chains/MTA_Markov%20chains_First-order.html) solution. What changes in higher-order Markov chains are transition probabilities that consider previous `state` visitis in addition to the current state. In particular, in a first-order Markov chain, the probability of visiting state $j$ from state $i$ at time $t+1$ was goverened by the following conditional probability:\n",
    "\n",
    "$$ P(i\\rightarrow j):= P\\big(S_{t+1} = j \\big| S_{t} = i\\big)$$,\n",
    "\n",
    "whereas in, for example, a 2nd-order Markov chain, the same transition probability will be governed by:\n",
    "\n",
    "$$ P(i\\rightarrow j):= P\\big(S_{t+1} = j \\big| S_{t} = i, S_{t-1} = k\\big)$$,\n",
    "\n",
    "where $k$ is the state of the system at time $t-1$. The Markov property seems to be violated with this new definition because the transition probability is not memoryless and depends on previous history. However, a new state definition can resolve such violation. In this format, a state variable stores two steps of the customer journey where\n",
    "\n",
    "$$ P(ki\\rightarrow ij): = P\\big(S_{t+1} = ij \\big| S_{t} = ki\\big)$$.\n",
    "\n",
    "In multi-touch attribution settings, customer journeys through different channels can be modeled via a Markov chain where different channels construct the state space of the Markov model. For a first-order model, `state` of the Markov chain model will be equivalent to each `channel`. For higher-order Markov chains, the `state` variable stores two consecutive channels of each journey.\n",
    "\n",
    "For example, in the following customer journey,\n",
    "\n",
    "*journey1*: NATURAL SEARCH --> PAID SEARCH --> DISPLAY --> CONVERSION\n",
    "\n",
    "Markov states that are visited by a customer are: `NATURAL SEARCH | PAID SEARCH`, `PAID SEARCH | DISPLAY`, and `DISPLAY | CONVERSION`. Similar to first-order case, attribution is evaluated by removal effects where a `state` removal is equivalent to removal of certain steps from the Markov chains. Attribution of a `channel` in this approach will be the sum of all state attributions where one of the steps was equal to that channel. \n",
    "\n"
   ]
  },
  {
   "cell_type": "markdown",
   "metadata": {},
   "source": [
    "## 2. Read-in sample data base <a name=\"se:data\"></a>\n",
    "\n",
    "A sample data base is provided which consists of `601776` customer identifier keys and the customer journeys to conversion or loss. Customer journeys are created from raw customer interactions (clicks, impressions, etc.) where individual interactions are grouped by an customer identifer key (e.g., cookie id), sorted by a timestamp (e.g., time of interaction) and joined together. For more details, refer to [Data Transformation](#https://blend360-measurement-library.readthedocs-hosted.com/en/latest/content/Customer%20Journey%20Analytics/Data%20Transformations/index.html) section of [Customer Journey Analytics](#https://blend360-measurement-library.readthedocs-hosted.com/en/latest/content/Customer%20Journey%20Analytics/index.html). The sample data set is investigated to see no duplicate values are present in customer IDs. **NOTE** that this data set assumes only a homogeneous set of consumers."
   ]
  },
  {
   "cell_type": "code",
   "execution_count": 1,
   "metadata": {},
   "outputs": [
    {
     "name": "stdout",
     "output_type": "stream",
     "text": [
      "The data frame includes ['PGM_FREQ_MEMBER_KEY', 'CAM_DEV', 'CONVERSION'] columns and 601776 distinct rows\n"
     ]
    },
    {
     "data": {
      "text/html": [
       "<div>\n",
       "<style scoped>\n",
       "    .dataframe tbody tr th:only-of-type {\n",
       "        vertical-align: middle;\n",
       "    }\n",
       "\n",
       "    .dataframe tbody tr th {\n",
       "        vertical-align: top;\n",
       "    }\n",
       "\n",
       "    .dataframe thead th {\n",
       "        text-align: right;\n",
       "    }\n",
       "</style>\n",
       "<table border=\"1\" class=\"dataframe\">\n",
       "  <thead>\n",
       "    <tr style=\"text-align: right;\">\n",
       "      <th></th>\n",
       "      <th>PGM_FREQ_MEMBER_KEY</th>\n",
       "      <th>CAM_DEV</th>\n",
       "      <th>CONVERSION</th>\n",
       "    </tr>\n",
       "  </thead>\n",
       "  <tbody>\n",
       "    <tr>\n",
       "      <th>0</th>\n",
       "      <td>-9223328556171841832</td>\n",
       "      <td>['NATURAL SEARCH|DESKTOP', 'REFERRAL ENGINE|DE...</td>\n",
       "      <td>1</td>\n",
       "    </tr>\n",
       "    <tr>\n",
       "      <th>1</th>\n",
       "      <td>-9223242021294710602</td>\n",
       "      <td>['NATURAL SEARCH|DESKTOP', 'PAID SEARCH|DESKTOP']</td>\n",
       "      <td>1</td>\n",
       "    </tr>\n",
       "    <tr>\n",
       "      <th>2</th>\n",
       "      <td>-9223227354203035958</td>\n",
       "      <td>['DIRECT|DESKTOP']</td>\n",
       "      <td>0</td>\n",
       "    </tr>\n",
       "    <tr>\n",
       "      <th>3</th>\n",
       "      <td>-9223216806413203389</td>\n",
       "      <td>['DIRECT|DESKTOP', 'NATURAL SEARCH|DESKTOP']</td>\n",
       "      <td>1</td>\n",
       "    </tr>\n",
       "    <tr>\n",
       "      <th>4</th>\n",
       "      <td>-9223197902225736847</td>\n",
       "      <td>['NATURAL SEARCH|DESKTOP', 'DIRECT|DESKTOP', '...</td>\n",
       "      <td>1</td>\n",
       "    </tr>\n",
       "  </tbody>\n",
       "</table>\n",
       "</div>"
      ],
      "text/plain": [
       "   PGM_FREQ_MEMBER_KEY                                            CAM_DEV  \\\n",
       "0 -9223328556171841832  ['NATURAL SEARCH|DESKTOP', 'REFERRAL ENGINE|DE...   \n",
       "1 -9223242021294710602  ['NATURAL SEARCH|DESKTOP', 'PAID SEARCH|DESKTOP']   \n",
       "2 -9223227354203035958                                 ['DIRECT|DESKTOP']   \n",
       "3 -9223216806413203389       ['DIRECT|DESKTOP', 'NATURAL SEARCH|DESKTOP']   \n",
       "4 -9223197902225736847  ['NATURAL SEARCH|DESKTOP', 'DIRECT|DESKTOP', '...   \n",
       "\n",
       "   CONVERSION  \n",
       "0           1  \n",
       "1           1  \n",
       "2           0  \n",
       "3           1  \n",
       "4           1  "
      ]
     },
     "execution_count": 1,
     "metadata": {},
     "output_type": "execute_result"
    }
   ],
   "source": [
    "import os\n",
    "import inspect\n",
    "import pandas as pd\n",
    "curr_dir = os.path.dirname(os.path.abspath(inspect.getfile(inspect.currentframe())))\n",
    "parent_dir = os.path.dirname(curr_dir)\n",
    "path_df = pd.read_csv(os.path.join(parent_dir, \n",
    "                                   \"../Data Transformations/raw data/customer_journey_sample_data.csv\"), \n",
    "                      index_col = 0)\n",
    "print(f'The data frame includes {list(path_df.columns)} columns \\\n",
    "and {len(path_df.PGM_FREQ_MEMBER_KEY.unique())} distinct rows')\n",
    "path_df.head(5)"
   ]
  },
  {
   "cell_type": "markdown",
   "metadata": {},
   "source": [
    "**Stiching customer journeys**: The current customery journey stored in `path_df.CAM_DEV` only include channel visits and do not have any starting or absorbing point. The following function, `add_start_absorbing_state_func` produces a complete journey for each customer path in `path_df` data frame."
   ]
  },
  {
   "cell_type": "code",
   "execution_count": 2,
   "metadata": {},
   "outputs": [],
   "source": [
    "def add_start_absorbing_state_func(conversion, path):\n",
    "    import ast\n",
    "    path = ast.literal_eval(path)\n",
    "    if conversion == 0:\n",
    "        return ['Start'] + path + ['LOSS']\n",
    "    else: \n",
    "        return ['Start'] + path + ['CONVERSION']"
   ]
  },
  {
   "cell_type": "code",
   "execution_count": 3,
   "metadata": {},
   "outputs": [],
   "source": [
    "path_df['FULL_PATH'] = path_df.apply(lambda x: add_start_absorbing_state_func(x['CONVERSION'], x['CAM_DEV']), axis = 1)"
   ]
  },
  {
   "cell_type": "markdown",
   "metadata": {},
   "source": [
    "**Dimension Reduction**: To simply the analysis and ease the computation effort, some of the states in the `unique_state_lst` are grouped together into `OTHER`. <span style=\"color:blue\">**NOTE** that by leaving the `other_state_lst` list empty, the following Markov chain analyses will consider all the original states.</span> To further reduce dimensionality and to ease computation of transition probabilities device information is dropped from channels and recurrent transitions from and to the same channel are collapsed into a single channel visit. These operations are carried out by `remove_desktop_mobile`, `drop_recurring_channels`, and `reduce_states` functions below."
   ]
  },
  {
   "cell_type": "code",
   "execution_count": 4,
   "metadata": {},
   "outputs": [],
   "source": [
    "def remove_desktop_mobile(path):\n",
    "    liststring = [l.replace('|DESKTOP', '').replace('|MOBILE', '') for l in path]\n",
    "    return liststring"
   ]
  },
  {
   "cell_type": "code",
   "execution_count": 5,
   "metadata": {},
   "outputs": [],
   "source": [
    "def drop_recurring_channels(A):\n",
    "    return [A[i] for i in range(len(A)) if (i==0) or A[i] != A[i-1]]"
   ]
  },
  {
   "cell_type": "code",
   "execution_count": 6,
   "metadata": {},
   "outputs": [],
   "source": [
    "def reduce_states(path, other_state_lst):\n",
    "    new_path = []\n",
    "    for row in path:\n",
    "        new_row = []\n",
    "        for state in row:\n",
    "            if state in other_state_lst:\n",
    "                state = 'OTHER'\n",
    "            new_row.append(state)\n",
    "        new_path.append(new_row)\n",
    "    return new_path"
   ]
  },
  {
   "cell_type": "code",
   "execution_count": 8,
   "metadata": {},
   "outputs": [
    {
     "name": "stdout",
     "output_type": "stream",
     "text": [
      "{'OTHER', 'DIRECT', 'REFERRAL ENGINE', 'PAID SEARCH', 'AFFILIATE', 'SOCIAL MEDIA', 'NATURAL SEARCH', 'DISPLAY', 'EMAIL'}\n"
     ]
    }
   ],
   "source": [
    "## remove device information (desktop & mobile) from channels\n",
    "path_df['FULL_PATH'] = path_df.FULL_PATH.apply(remove_desktop_mobile)\n",
    "\n",
    "## drop recurring transitions\n",
    "path_df['FULL_PATH'] = path_df['FULL_PATH'].apply(drop_recurring_channels)\n",
    "\n",
    "## reduce state list\n",
    "## uncomment below to reduce the number of states\n",
    "other_channel_lst = ['ECONFO AND PRE-ARRIVAL EMAIL', \n",
    "                     'OTHER',\n",
    "                     'UNPAID REFERRER',\n",
    "                     'TEST',\n",
    "                     'B2B',\n",
    "                     'RESLINK']\n",
    "path_df.FULL_PATH = reduce_states(path_df.FULL_PATH, other_channel_lst)\n",
    "\n",
    "## print the remaining unique channel list\n",
    "unique_channel_lst = set(channel for path in path_df.FULL_PATH for channel in path)\n",
    "unique_channel_lst = set(channel if channel not in other_channel_lst else 'OTHER' for channel in unique_channel_lst)\n",
    "print(unique_channel_lst - set(['Start', 'CONVERSION', 'LOSS']))"
   ]
  },
  {
   "cell_type": "markdown",
   "metadata": {},
   "source": [
    "## 3. Training the 1st-order Markov model <a name=\"se:markov-1\"></a>"
   ]
  },
  {
   "cell_type": "markdown",
   "metadata": {},
   "source": [
    "All the steps in training a first-order Markov model for the same data set is covered in **Section 3** of [Multi-Touch Attribution with First-Order Markov Chains](#https://blend360-measurement-library.readthedocs-hosted.com/en/latest/content/Customer%20Journey%20Analytics/Methodologies/Markov%20Chains/MTA_Markov%20chains_First-order.html) solution. Those steps are wrapped into a single `first_order_tpm_func` function which given a data set of customer journeys, produces a transition probability matrix (TPM) for a first-order Markov chain whose states are unique channels of all customer journeys. **NOTE** that, it is assumed that all journeys have a `Start` state at the begining of the journey and end in one of the two absorbing states of `CONVERSION` or `LOSS`.\n",
    "\n",
    "The `first_order_tpm_func` is a similar solution wrapped into a functon for portability. In fact, the algorithm for any order of Markov chain remains roughly similar. First, potential state transitions are generated. For a first-order Markov chain, state transitions can be represented by a pair of channels, e.g., `(from_channel, to_channel)`. Then, all customery journey transitions are parsed to enumerate the frequency of each transition. The last step is to turn these frequencies into transition probabilities by dividing each frequency to the sum of all frequencies that share the same starting points. This will ensure that the sum of transition probabilities in the transition probability matrix adds up to `1`. Or, in other words, the probabilities of transitioning out of a state in a Markov chain should sum up to `1`.\n",
    "\n",
    "Transitions between state $i\\rightarrow j$ are governed by transition probability of $P(i\\rightarrow j)$ which can be stated as a conditional probability of the form:\n",
    "\n",
    "$$P(i\\rightarrow j) = P\\big(S_{t+1} = j \\,\\big|\\, S_t = i\\big)$$"
   ]
  },
  {
   "cell_type": "code",
   "execution_count": 131,
   "metadata": {},
   "outputs": [],
   "source": [
    "def first_order_tpm_func(path_df, unique_channel_lst):\n",
    "    import pandas as pd\n",
    "    \n",
    "    ## generate all potential transitions\n",
    "    potential_transitions_lst = [(from_state, to_state) \n",
    "                                 for from_state in unique_channel_lst \n",
    "                                     for to_state in unique_channel_lst]\n",
    "    transitions_freq_dict = dict.fromkeys(potential_transitions_lst, 0)\n",
    "    \n",
    "    #count the number of each transition in data\n",
    "    for row in path_df.iterrows():\n",
    "        full_path = row[1]['FULL_PATH']\n",
    "        for idx, channel in enumerate(full_path):\n",
    "            from_state = channel if channel in unique_channel_lst else 'OTHER'\n",
    "            to_state = full_path[idx + 1] if full_path[idx + 1] in unique_channel_lst else 'OTHER'\n",
    "            transitions_freq_dict[(from_state, to_state)] += 1\n",
    "            if to_state in ['CONVERSION', 'LOSS']:\n",
    "                break\n",
    "                \n",
    "    ## convert the dictionary into data fram and add frq, from_state, and to_state columns\n",
    "    transitions_freq_df = pd.DataFrame.from_dict(transitions_freq_dict, orient = 'index', columns = ['freq'])\n",
    "    transitions_freq_df.reset_index(inplace = True)\n",
    "    transitions_freq_df.rename(columns = {'index': 'transitions'}, inplace = True)\n",
    "    transitions_freq_df[['from_state', 'to_state']] = transitions_freq_df.transitions.tolist()\n",
    "    ## order columns for nicer output\n",
    "    transitions_freq_df = transitions_freq_df[['from_state', 'to_state', 'transitions', 'freq']]\n",
    "    \n",
    "    ## evalauate transition probabilities by dividing the frequencey \n",
    "    transitions_freq_df['prob'] = transitions_freq_df['freq'] / \\\n",
    "                                  transitions_freq_df.groupby(['from_state'])['freq'].transform('sum')\n",
    "    transitions_freq_df = transitions_freq_df[transitions_freq_df.prob != 0]\n",
    "    \n",
    "    return transitions_freq_df"
   ]
  },
  {
   "cell_type": "markdown",
   "metadata": {},
   "source": [
    "## 4. Training the 2nd-order Markov model <a name=\"se:markov-2\"></a>"
   ]
  },
  {
   "cell_type": "markdown",
   "metadata": {},
   "source": [
    "As discussed in [**Section 1**](#se:intro), higher-order Markov chain store more customer journey history into their state variable. In a 2nd-order Markov chain, transition from state to another, depends on the previous state of the system as well. To conserve the Markovian property, the state definition will be changed to incorporate pairs of state at each time. For example, a transition in a 2nd-order Markov chain can be representated by two pairs of channels where `(prior_channel, current_channel) --> (current_channel, post_channel)`. Since `current_channel` will always be the same between these two pairs, a 2nd-order Markov chain transition can be denoted by a tuple of three elements, e.g., `(prior_channel, current_channel, post_channel)`.\n",
    "\n",
    "The `second_order_tpm_func` function below modifies the first-order algorithm a little bit to accomodate new state definitions. However, the algorithm steps remain exactly the same. Potential transitions are generated. All transitions are then enumerated in each customer journey to create a frequency matrix and eventually a transition probability matrix. Transition probabilities in a 2nd-order Markov chain are conditioned on the current and the previous channel visits.\n",
    "\n",
    "$$P(k\\rightarrow i\\rightarrow j) = P\\big(S_{t+1} = j\\,\\big |\\, S_{t} = i, S_{t-1} = k\\big)$$\n",
    "\n",
    "The Markovian property is preserved by changing the state defition in the following way:\n",
    "\n",
    "$$P(k\\rightarrow i\\rightarrow j) = P\\big(S_{t+1} = (i\\rightarrow j)\\,\\big |\\, S_{t} = (k\\rightarrow i)\\big)$$\n",
    "\n",
    "where transition probabilities still only depend on the current state."
   ]
  },
  {
   "cell_type": "code",
   "execution_count": 128,
   "metadata": {},
   "outputs": [],
   "source": [
    "def second_order_tpm_func(path_df, unique_channel_lst):\n",
    "    \n",
    "    ## generate all potential transitions\n",
    "    potential_transitions_lst = [(from_state_1, from_state_2, to_state) \n",
    "                                 for from_state_1 in unique_channel_lst \n",
    "                                     for from_state_2 in unique_channel_lst \n",
    "                                         for to_state in unique_channel_lst]\n",
    "    ## do not need to take out impossible states like (s1, Start, s2)\n",
    "\n",
    "    transitions_freq_dict = dict.fromkeys(potential_transitions_lst, 0)\n",
    "    \n",
    "    ## count the number of each transition in data\n",
    "    for row in path_df.iterrows():\n",
    "        full_path = row[1]['FULL_PATH']\n",
    "        for idx, state in enumerate(full_path):\n",
    "            from_state_2 = state if state in unique_channel_lst else 'OTHER'\n",
    "            to_state = full_path[idx + 1] if full_path[idx + 1] in unique_channel_lst else 'OTHER'\n",
    "            if idx == 0:\n",
    "                transitions_freq_dict[('Start', from_state_2, to_state)] += 1 \n",
    "                continue\n",
    "            from_state_1 = full_path[idx - 1] if full_path[idx - 1] in unique_channel_lst else 'OTHER'\n",
    "            transitions_freq_dict[(from_state_1, from_state_2, to_state)] += 1            \n",
    "            if to_state in ['CONVERSION', 'LOSS']:\n",
    "                break\n",
    "                \n",
    "    ## convert the dictionary into data fram and add frq, from_state, and to_state columns\n",
    "    transitions_freq_df = pd.DataFrame.from_dict(transitions_freq_dict, \n",
    "                                                 orient = 'index', \n",
    "                                                 columns = ['freq'])\n",
    "    transitions_freq_df.reset_index(inplace = True)\n",
    "    transitions_freq_df.rename(columns = {'index': 'transitions'}, inplace = True)\n",
    "    transitions_freq_df[['prior', 'current', 'post']] = transitions_freq_df.transitions.tolist()\n",
    "    \n",
    "    ## reformat state definitions to match the formal definition of 2nd-order Markov chains\n",
    "    transitions_freq_df['from_state'] = transitions_freq_df['prior'] + \\\n",
    "                                        ' | ' + \\\n",
    "                                        transitions_freq_df['current']\n",
    "    transitions_freq_df['to_state'] = transitions_freq_df['current'] + \\\n",
    "                                      ' | ' + \\\n",
    "                                      transitions_freq_df['post']\n",
    "\n",
    "    ## exclude Start, LOSS, and CONVERSION from the same naming convention\n",
    "    ## (s1, s2, loss) = loss, (s1, s2, conversion) = conversion\n",
    "    transitions_freq_df['to_state'][transitions_freq_df['post'] == 'LOSS'] = 'LOSS'\n",
    "    transitions_freq_df['to_state'][transitions_freq_df['post'] == 'CONVERSION'] = 'CONVERSION'\n",
    "    transitions_freq_df['to_state'][transitions_freq_df['current'] == 'LOSS'] = 'LOSS'\n",
    "    transitions_freq_df['to_state'][transitions_freq_df['current'] == 'CONVERSION'] = 'CONVERSION'\n",
    "\n",
    "    transitions_freq_df['from_state'][transitions_freq_df['current'] == 'LOSS'] = 'LOSS'\n",
    "    transitions_freq_df['from_state'][transitions_freq_df['current'] == 'CONVERSION'] = 'CONVERSION'\n",
    "    transitions_freq_df['from_state'][transitions_freq_df['prior'] == 'LOSS'] = 'LOSS'\n",
    "    transitions_freq_df['from_state'][transitions_freq_df['prior'] == 'CONVERSION'] = 'CONVERSION'\n",
    "    \n",
    "    ## evalauate transition probabilities by dividing the frequencey\n",
    "    transitions_freq_df = transitions_freq_df.groupby(['from_state', 'to_state'])['freq'].agg('sum').reset_index()\n",
    "    transitions_freq_df['prob'] = transitions_freq_df['freq'] / \\\n",
    "                                  transitions_freq_df.groupby(['from_state'])['freq'].transform('sum')\n",
    "    return transitions_freq_df"
   ]
  },
  {
   "cell_type": "markdown",
   "metadata": {},
   "source": [
    "## 5. Training the 3rd-order Markov model <a name=\"se:markov-3\"></a>"
   ]
  },
  {
   "cell_type": "markdown",
   "metadata": {},
   "source": [
    "Extending the logic of 2nd-order Markov chains to highr-order is straightforward. This time, transitions within the Markov chain require more knowledge of the history. To accomodate that and conserve the Markovian property, the state definition expands from pairs of channels to tuples of three channels where a transition can be represented by `(predecessor, prior, current) --> (prior, current, post)`. Similar to the 2nd-order, the same transition can also be denoted by a tuple of four channels `prior` and `current` channel visits will remain the same in both states of the transition. Therefore, `(predecessor, prior, current, post)` would suffice to describe a transition in a 3rd-order Markov chain.\n",
    "\n",
    "The `third_order_tpm_func` below, extends the Markov chain tranining logic to the third order. All the steps previously discussed in training of first- and second-order Markov chain model will remain the same. The conditional probabilities of transition probabilities also have a straightforward extension for a 3rd-order Markov chain.\n",
    "\n",
    "$$P(t\\rightarrow k\\rightarrow i\\rightarrow j) = P\\big(S_{t+1} = j\\,\\big |\\, S_{t} = i, S_{t-1} = k, S_{t-2} = t\\big)$$\n",
    "\n",
    "where the Markovian property requires the state definition to change to\n",
    "\n",
    "$$P(t\\rightarrow k\\rightarrow i\\rightarrow j) = P\\big(S_{t+1} = (k\\rightarrow i\\rightarrow j)\\,\\big |\\, S_{t} = (t\\rightarrow k\\rightarrow i)\\big)$$"
   ]
  },
  {
   "cell_type": "code",
   "execution_count": 1,
   "metadata": {},
   "outputs": [],
   "source": [
    "def v(path_df, unique_channel_lst):\n",
    "    ## generate all potential transitions\n",
    "    potential_transitions_lst = [(from_state_1, from_state_2, from_state_3, to_state) \n",
    "                                 for from_state_1 in unique_channel_lst \n",
    "                                     for from_state_2 in unique_channel_lst \n",
    "                                         for from_state_3 in unique_channel_lst \n",
    "                                             for to_state in unique_channel_lst]\n",
    "    \n",
    "    transitions_freq_dict = dict.fromkeys(potential_transitions_lst, 0)\n",
    "    \n",
    "    ## count the number of each transition in data\n",
    "    for row in path_df.iterrows():\n",
    "        full_path = row[1]['FULL_PATH']\n",
    "        for idx, state in enumerate(full_path):\n",
    "            from_state_3 = state if state in unique_channel_lst else 'OTHER'\n",
    "            to_state = full_path[idx + 1] if full_path[idx + 1] in unique_channel_lst else 'OTHER'\n",
    "            if idx == 0:\n",
    "                transitions_freq_dict[('Start', 'Start', from_state_3, to_state)] += 1\n",
    "                continue\n",
    "            if idx == 1:\n",
    "                from_state_2 = full_path[idx - 1] if full_path[idx - 1] in unique_channel_lst else 'OTHER'\n",
    "                transitions_freq_dict[('Start', from_state_2, from_state_3, to_state)] += 1 \n",
    "                if to_state in ['CONVERSION', 'LOSS']:\n",
    "                    break\n",
    "                continue\n",
    "            from_state_2 = full_path[idx - 1] if full_path[idx - 1] in unique_channel_lst else 'OTHER'\n",
    "            from_state_1 = full_path[idx - 2] if full_path[idx - 2] in unique_channel_lst else 'OTHER'\n",
    "            transitions_freq_dict[(from_state_1, from_state_2, from_state_3, to_state)] += 1\n",
    "            if to_state in ['CONVERSION', 'LOSS']:\n",
    "                break\n",
    "    \n",
    "    ## convert the dictionary into data fram and add frq, from_state, and to_state columns\n",
    "    transitions_freq_df = pd.DataFrame.from_dict(transitions_freq_dict, \n",
    "                                                 orient = 'index', \n",
    "                                                 columns = ['freq'])\n",
    "    transitions_freq_df.reset_index(inplace = True)\n",
    "    transitions_freq_df.rename(columns = {'index': 'transitions'}, inplace = True)\n",
    "    \n",
    "    transitions_freq_df[['prior2', 'prior1', 'current', 'post']] = transitions_freq_df.transitions.tolist()\n",
    "    \n",
    "    ## reformat state definitions to match the formal definition of 2nd-order Markov chains\n",
    "    transitions_freq_df['from_state'] = transitions_freq_df['prior2'] + \\\n",
    "                                        ' | ' + \\\n",
    "                                        transitions_freq_df['prior1'] + \\\n",
    "                                        ' | ' + \\\n",
    "                                        transitions_freq_df['current']\n",
    "\n",
    "    transitions_freq_df['to_state'] =   transitions_freq_df['prior1'] + \\\n",
    "                                        ' | ' + \\\n",
    "                                        transitions_freq_df['current'] + \\\n",
    "                                        ' | ' + \\\n",
    "                                        transitions_freq_df['post']\n",
    "    \n",
    "    ## exclude Start, LOSS, and CONVERSION from the same naming convention\n",
    "    ### for example, (s1, s2, s3, loss) = loss, (s1, s2, s3, conversion) = conversion, (start, start, start, s2) = start\n",
    "    transitions_freq_df.loc[transitions_freq_df['post'] == 'LOSS', 'to_state'] = 'LOSS'\n",
    "    transitions_freq_df.loc[transitions_freq_df['post'] == 'CONVERSION', 'to_state'] = 'CONVERSION'\n",
    "    transitions_freq_df.loc[transitions_freq_df['current'] == 'LOSS', 'to_state'] = 'LOSS'\n",
    "    transitions_freq_df.loc[transitions_freq_df['current'] == 'CONVERSION', 'to_state'] = 'CONVERSION'\n",
    "    transitions_freq_df.loc[transitions_freq_df['prior1'] == 'LOSS', 'to_state'] = 'LOSS'\n",
    "    transitions_freq_df.loc[transitions_freq_df['prior1'] == 'CONVERSION', 'to_state'] = 'CONVERSION'\n",
    "\n",
    "    transitions_freq_df.loc[transitions_freq_df['current'] == 'LOSS', 'from_state'] = 'LOSS'\n",
    "    transitions_freq_df.loc[transitions_freq_df['current'] == 'CONVERSION', 'from_state'] = 'CONVERSION'\n",
    "    transitions_freq_df.loc[transitions_freq_df['prior1'] == 'LOSS', 'from_state'] = 'LOSS'\n",
    "    transitions_freq_df.loc[transitions_freq_df['prior1'] == 'CONVERSION', 'from_state'] = 'CONVERSION'\n",
    "    transitions_freq_df.loc[transitions_freq_df['prior2'] == 'LOSS', 'from_state'] = 'LOSS'\n",
    "    transitions_freq_df.loc[transitions_freq_df['prior2']== 'CONVERSION', 'from_state'] = 'CONVERSION'\n",
    "    \n",
    "    ## evalauate transition probabilities by dividing the frequencey\n",
    "    transitions_freq_df = transitions_freq_df.groupby(['from_state', 'to_state'])['freq'].agg('sum').reset_index()\n",
    "    transitions_freq_df['prob'] = transitions_freq_df['freq'] / \\\n",
    "                                  transitions_freq_df.groupby(['from_state'])['freq'].transform('sum')\n",
    "    \n",
    "    return transitions_freq_df"
   ]
  },
  {
   "cell_type": "markdown",
   "metadata": {},
   "source": [
    "In the followin code chunk, the customer journey data set of `path_df` is used to train 1st-, 2nd-, and 3rd-order Markov chains utilizing `first_order_tpm_func`, `second_order_tpm_func`, and `third_order_tpm_func` functions. Each function produces a transition probability data frame which is converted into a proper matrix. Absorbing probabilities of `LOSS` and `CONVERSION` states are added manually."
   ]
  },
  {
   "cell_type": "code",
   "execution_count": 132,
   "metadata": {},
   "outputs": [
    {
     "name": "stdout",
     "output_type": "stream",
     "text": [
      "First-order Markov training ...\n",
      "Second-order Markov training ...\n",
      "Third-order Markov training ...\n"
     ]
    }
   ],
   "source": [
    "import warnings\n",
    "warnings.filterwarnings('ignore')\n",
    "base_conversion_rate = sum(path_df['CONVERSION']) / path_df.shape[0]\n",
    "\n",
    "print('First-order Markov training ...')\n",
    "freq1_df = first_order_tpm_func(path_df, unique_channel_lst)\n",
    "## creating transition probability matrix\n",
    "tpm1_df = pd.pivot_table(freq1_df.fillna(0), \n",
    "                         index = 'from_state',\n",
    "                         columns = 'to_state',\n",
    "                         values = 'prob').fillna(0)\n",
    "tpm1_df.loc[tpm1_df.index == 'LOSS', 'LOSS'] = 1\n",
    "tpm1_df.loc[tpm1_df.index == 'CONVERSION', 'CONVERSION'] = 1\n",
    "\n",
    "print('Second-order Markov training ...')\n",
    "freq2_df = second_order_tpm_func(path_df, unique_channel_lst)\n",
    "tpm2_df = pd.pivot_table(freq2_df.fillna(0), \n",
    "                         index = 'from_state',\n",
    "                         columns = 'to_state',\n",
    "                         values = 'prob').fillna(0)\n",
    "tpm2_df.loc[tpm2_df.index == 'LOSS', 'LOSS'] = 1\n",
    "tpm2_df.loc[tpm2_df.index == 'CONVERSION', 'CONVERSION'] = 1\n",
    "\n",
    "print('Third-order Markov training ...')\n",
    "freq3_df = third_order_tpm_func(path_df, unique_channel_lst)\n",
    "tpm3_df = pd.pivot_table(freq3_df.fillna(0), \n",
    "                         index = 'from_state',\n",
    "                         columns = 'to_state',\n",
    "                         values = 'prob').fillna(0)\n",
    "tpm3_df.loc[tpm3_df.index == 'LOSS', 'LOSS'] = 1\n",
    "tpm3_df.loc[tpm3_df.index == 'CONVERSION', 'CONVERSION'] = 1"
   ]
  },
  {
   "cell_type": "markdown",
   "metadata": {},
   "source": [
    "## 6. Attribution of higher-order Markov chains <a name=\"se:attribution\"></a>\n",
    "\n",
    "Attribution of higher-order Markov chains are evaluated in a similar process to first-order chains. A channel attribution in a Markov chain model is evaluated as its removal effect in the chain. Removing a channel from a Markov chain will change the overall probability of conversion from the `Start` state. This change is typically considered as channel attribution. For a thorough review of the algorithm to calculate a channel's removal effect, refer to the [Multi-Touch Attribution with First-Order Markov Chains](#https://blend360-measurement-library.readthedocs-hosted.com/en/latest/content/Customer%20Journey%20Analytics/Methodologies/Markov%20Chains/MTA_Markov%20chains_First-order.html) solution where each step of the algorithm is described in detail in **Section 4**.\n",
    "\n",
    "The `removal_effects` function below, implements the exact approach with few modifications. While in the first-order Markov chain, removal of a channel was equivalent to removal of one state, this is not the case for higher-order chains. For example, channel $i$ will appear in multiple states of the Markov chain such as $(k\\rightarrow i), (i\\rightarrow k), (j\\rightarrow i), (i\\rightarrow j), \\ldots$. Therefore, removing one channel requires the algorithm to remove multiple states of the Markov chain at the same time, recalibrate the transition probability matrix, and evaluate the probability to conversion to measure its change from the baseline before removal of the channel."
   ]
  },
  {
   "cell_type": "code",
   "execution_count": 133,
   "metadata": {},
   "outputs": [],
   "source": [
    "def removal_effects(tpm_df, base_conversion_rate, unique_channel_lst, start_state):\n",
    "    import numpy as np\n",
    "    from tqdm import tqdm\n",
    "\n",
    "    RE_dict = {}\n",
    "    channels = [channel for channel in unique_channel_lst if channel not in ['Start', 'LOSS', 'CONVERSION']]\n",
    "    for channel in channels:\n",
    "        cols_to_rem = [col for col in tpm_df.columns if channel in col]\n",
    "        removal_df = tpm_df.drop(cols_to_rem, axis = 1).drop(cols_to_rem, axis = 0)\n",
    "        for column in removal_df.columns:\n",
    "            row_sum = np.sum(list(removal_df.loc[column]))\n",
    "            null_pct = float(1) - row_sum\n",
    "            if null_pct != 0:\n",
    "                removal_df.loc[column]['LOSS'] += null_pct\n",
    "            removal_df.loc['LOSS']['LOSS'] = 1.0\n",
    "        R = removal_df[['LOSS', 'CONVERSION']].drop(['LOSS', 'CONVERSION'], axis = 0)\n",
    "        T = removal_df.drop(['LOSS', 'CONVERSION'], axis = 1).drop(['LOSS', 'CONVERSION'], axis = 0)\n",
    "        I = np.identity(len(T.columns))\n",
    "        P = np.dot(np.linalg.inv(I - T), np.asarray(R))\n",
    "        new_CR = pd.DataFrame(P, index = R.index)[[1]].loc[start_state].values[0]\n",
    "        RE = 1 - new_CR / base_conversion_rate\n",
    "        RE_dict[channel] = RE\n",
    "    re_sum = np.sum(list(RE_dict.values()))\n",
    "    new_RE_dict = {k: v / re_sum for k, v in RE_dict.items()}\n",
    "    return RE_dict, new_RE_dict"
   ]
  },
  {
   "cell_type": "markdown",
   "metadata": {},
   "source": [
    "The code chunck below utilizes the function above to calculate the removal effects (attributions) for each channel for 1st-, 2nd-, and 3rd-order Markov chains. Raw attribution numbers are turned into relative percentages and are bundled up in the `attributions_df` data frame for visualization and comparison."
   ]
  },
  {
   "cell_type": "code",
   "execution_count": 181,
   "metadata": {},
   "outputs": [],
   "source": [
    "attributions_df = pd.DataFrame()\n",
    "\n",
    "## calculating attribution of first-order Markov chain\n",
    "start_state = 'Start'\n",
    "removal_effects_dict, normalized_removal_effects_dict = removal_effects(tpm1_df, \n",
    "                                                                        base_conversion_rate, \n",
    "                                                                        unique_channel_lst, \n",
    "                                                                        start_state)\n",
    "total_conversions = sum(path.count('CONVERSION') for path in path_df['FULL_PATH'].tolist())\n",
    "new_attributions = {k:v  * total_conversions for k, v in normalized_removal_effects_dict.items()}\n",
    "new_attributions = pd.DataFrame.from_dict(new_attributions, orient = 'index', columns = ['attribution'])\n",
    "new_attributions.reset_index(inplace = True)\n",
    "new_attributions.rename(columns = {'index': 'channel'}, inplace = True)\n",
    "new_attributions.sort_values(by = 'attribution', ascending = False, inplace = True)\n",
    "new_attributions.reset_index(drop = True, inplace = True)\n",
    "new_attributions['per'] = new_attributions.attribution / new_attributions.attribution.sum()\n",
    "new_attributions['Order'] = '1st-order'\n",
    "attributions_df = attributions_df.append(new_attributions)\n",
    "\n",
    "## calculating attribution of second-order Markov chain\n",
    "start_state = 'Start | Start'\n",
    "removal_effects_dict, normalized_removal_effects_dict = removal_effects(tpm2_df, \n",
    "                                                                        base_conversion_rate, \n",
    "                                                                        unique_channel_lst, \n",
    "                                                                        start_state)\n",
    "total_conversions = sum(path.count('CONVERSION') for path in path_df['FULL_PATH'].tolist())\n",
    "new_attributions = {k:v  * total_conversions for k, v in normalized_removal_effects_dict.items()}\n",
    "new_attributions = pd.DataFrame.from_dict(new_attributions, orient = 'index', columns = ['attribution'])\n",
    "new_attributions.reset_index(inplace = True)\n",
    "new_attributions.rename(columns = {'index': 'channel'}, inplace = True)\n",
    "new_attributions.sort_values(by = 'attribution', ascending = False, inplace = True)\n",
    "new_attributions.reset_index(drop = True, inplace = True)\n",
    "new_attributions['per'] = new_attributions.attribution / new_attributions.attribution.sum()\n",
    "new_attributions['Order'] = '2nd-order'\n",
    "attributions_df = attributions_df.append(new_attributions)\n",
    "\n",
    "## calculating attribution of third-order Markov chain\n",
    "start_state = 'Start | Start | Start'\n",
    "removal_effects_dict, normalized_removal_effects_dict = removal_effects(tpm3_df, \n",
    "                                                                        base_conversion_rate, \n",
    "                                                                        unique_channel_lst, \n",
    "                                                                        start_state)\n",
    "total_conversions = sum(path.count('CONVERSION') for path in path_df['FULL_PATH'].tolist())\n",
    "new_attributions = {k:v  * total_conversions for k, v in normalized_removal_effects_dict.items()}\n",
    "new_attributions = pd.DataFrame.from_dict(new_attributions, orient = 'index', columns = ['attribution'])\n",
    "new_attributions.reset_index(inplace = True)\n",
    "new_attributions.rename(columns = {'index': 'channel'}, inplace = True)\n",
    "new_attributions.sort_values(by = 'attribution', ascending = False, inplace = True)\n",
    "new_attributions.reset_index(drop = True, inplace = True)\n",
    "new_attributions['per'] = new_attributions.attribution / new_attributions.attribution.sum()\n",
    "new_attributions['Order'] = '3rd-order'\n",
    "attributions_df = attributions_df.append(new_attributions)"
   ]
  },
  {
   "cell_type": "code",
   "execution_count": 182,
   "metadata": {},
   "outputs": [
    {
     "data": {
      "text/html": [
       "<div>\n",
       "<style scoped>\n",
       "    .dataframe tbody tr th:only-of-type {\n",
       "        vertical-align: middle;\n",
       "    }\n",
       "\n",
       "    .dataframe tbody tr th {\n",
       "        vertical-align: top;\n",
       "    }\n",
       "\n",
       "    .dataframe thead th {\n",
       "        text-align: right;\n",
       "    }\n",
       "</style>\n",
       "<table border=\"1\" class=\"dataframe\">\n",
       "  <thead>\n",
       "    <tr style=\"text-align: right;\">\n",
       "      <th></th>\n",
       "      <th>channel</th>\n",
       "      <th>attribution</th>\n",
       "      <th>per</th>\n",
       "      <th>Order</th>\n",
       "    </tr>\n",
       "  </thead>\n",
       "  <tbody>\n",
       "    <tr>\n",
       "      <th>0</th>\n",
       "      <td>DIRECT</td>\n",
       "      <td>74827.140718</td>\n",
       "      <td>0.333144</td>\n",
       "      <td>1st-order</td>\n",
       "    </tr>\n",
       "    <tr>\n",
       "      <th>1</th>\n",
       "      <td>NATURAL SEARCH</td>\n",
       "      <td>63046.832910</td>\n",
       "      <td>0.280696</td>\n",
       "      <td>1st-order</td>\n",
       "    </tr>\n",
       "    <tr>\n",
       "      <th>2</th>\n",
       "      <td>OTHER</td>\n",
       "      <td>24798.923053</td>\n",
       "      <td>0.110409</td>\n",
       "      <td>1st-order</td>\n",
       "    </tr>\n",
       "    <tr>\n",
       "      <th>3</th>\n",
       "      <td>EMAIL</td>\n",
       "      <td>21402.537897</td>\n",
       "      <td>0.095288</td>\n",
       "      <td>1st-order</td>\n",
       "    </tr>\n",
       "    <tr>\n",
       "      <th>4</th>\n",
       "      <td>PAID SEARCH</td>\n",
       "      <td>21015.715783</td>\n",
       "      <td>0.093566</td>\n",
       "      <td>1st-order</td>\n",
       "    </tr>\n",
       "    <tr>\n",
       "      <th>5</th>\n",
       "      <td>REFERRAL ENGINE</td>\n",
       "      <td>8658.339461</td>\n",
       "      <td>0.038548</td>\n",
       "      <td>1st-order</td>\n",
       "    </tr>\n",
       "    <tr>\n",
       "      <th>6</th>\n",
       "      <td>AFFILIATE</td>\n",
       "      <td>7096.532604</td>\n",
       "      <td>0.031595</td>\n",
       "      <td>1st-order</td>\n",
       "    </tr>\n",
       "    <tr>\n",
       "      <th>7</th>\n",
       "      <td>DISPLAY</td>\n",
       "      <td>2974.462626</td>\n",
       "      <td>0.013243</td>\n",
       "      <td>1st-order</td>\n",
       "    </tr>\n",
       "    <tr>\n",
       "      <th>8</th>\n",
       "      <td>SOCIAL MEDIA</td>\n",
       "      <td>788.514947</td>\n",
       "      <td>0.003511</td>\n",
       "      <td>1st-order</td>\n",
       "    </tr>\n",
       "    <tr>\n",
       "      <th>9</th>\n",
       "      <td>DIRECT</td>\n",
       "      <td>75367.947633</td>\n",
       "      <td>0.335552</td>\n",
       "      <td>2nd-order</td>\n",
       "    </tr>\n",
       "    <tr>\n",
       "      <th>10</th>\n",
       "      <td>NATURAL SEARCH</td>\n",
       "      <td>65774.130686</td>\n",
       "      <td>0.292838</td>\n",
       "      <td>2nd-order</td>\n",
       "    </tr>\n",
       "    <tr>\n",
       "      <th>11</th>\n",
       "      <td>OTHER</td>\n",
       "      <td>23481.127608</td>\n",
       "      <td>0.104542</td>\n",
       "      <td>2nd-order</td>\n",
       "    </tr>\n",
       "    <tr>\n",
       "      <th>12</th>\n",
       "      <td>PAID SEARCH</td>\n",
       "      <td>20693.530075</td>\n",
       "      <td>0.092131</td>\n",
       "      <td>2nd-order</td>\n",
       "    </tr>\n",
       "    <tr>\n",
       "      <th>13</th>\n",
       "      <td>EMAIL</td>\n",
       "      <td>20152.363737</td>\n",
       "      <td>0.089722</td>\n",
       "      <td>2nd-order</td>\n",
       "    </tr>\n",
       "    <tr>\n",
       "      <th>14</th>\n",
       "      <td>REFERRAL ENGINE</td>\n",
       "      <td>8646.636210</td>\n",
       "      <td>0.038496</td>\n",
       "      <td>2nd-order</td>\n",
       "    </tr>\n",
       "    <tr>\n",
       "      <th>15</th>\n",
       "      <td>AFFILIATE</td>\n",
       "      <td>6903.978805</td>\n",
       "      <td>0.030738</td>\n",
       "      <td>2nd-order</td>\n",
       "    </tr>\n",
       "    <tr>\n",
       "      <th>16</th>\n",
       "      <td>DISPLAY</td>\n",
       "      <td>2913.766967</td>\n",
       "      <td>0.012973</td>\n",
       "      <td>2nd-order</td>\n",
       "    </tr>\n",
       "    <tr>\n",
       "      <th>17</th>\n",
       "      <td>SOCIAL MEDIA</td>\n",
       "      <td>675.518280</td>\n",
       "      <td>0.003008</td>\n",
       "      <td>2nd-order</td>\n",
       "    </tr>\n",
       "    <tr>\n",
       "      <th>18</th>\n",
       "      <td>DIRECT</td>\n",
       "      <td>75486.787825</td>\n",
       "      <td>0.336081</td>\n",
       "      <td>3rd-order</td>\n",
       "    </tr>\n",
       "    <tr>\n",
       "      <th>19</th>\n",
       "      <td>NATURAL SEARCH</td>\n",
       "      <td>66653.931200</td>\n",
       "      <td>0.296755</td>\n",
       "      <td>3rd-order</td>\n",
       "    </tr>\n",
       "    <tr>\n",
       "      <th>20</th>\n",
       "      <td>OTHER</td>\n",
       "      <td>23095.763866</td>\n",
       "      <td>0.102827</td>\n",
       "      <td>3rd-order</td>\n",
       "    </tr>\n",
       "    <tr>\n",
       "      <th>21</th>\n",
       "      <td>PAID SEARCH</td>\n",
       "      <td>20603.015071</td>\n",
       "      <td>0.091728</td>\n",
       "      <td>3rd-order</td>\n",
       "    </tr>\n",
       "    <tr>\n",
       "      <th>22</th>\n",
       "      <td>EMAIL</td>\n",
       "      <td>19698.557902</td>\n",
       "      <td>0.087702</td>\n",
       "      <td>3rd-order</td>\n",
       "    </tr>\n",
       "    <tr>\n",
       "      <th>23</th>\n",
       "      <td>REFERRAL ENGINE</td>\n",
       "      <td>8687.619766</td>\n",
       "      <td>0.038679</td>\n",
       "      <td>3rd-order</td>\n",
       "    </tr>\n",
       "    <tr>\n",
       "      <th>24</th>\n",
       "      <td>AFFILIATE</td>\n",
       "      <td>6863.924632</td>\n",
       "      <td>0.030559</td>\n",
       "      <td>3rd-order</td>\n",
       "    </tr>\n",
       "    <tr>\n",
       "      <th>25</th>\n",
       "      <td>DISPLAY</td>\n",
       "      <td>2885.482919</td>\n",
       "      <td>0.012847</td>\n",
       "      <td>3rd-order</td>\n",
       "    </tr>\n",
       "    <tr>\n",
       "      <th>26</th>\n",
       "      <td>SOCIAL MEDIA</td>\n",
       "      <td>633.916818</td>\n",
       "      <td>0.002822</td>\n",
       "      <td>3rd-order</td>\n",
       "    </tr>\n",
       "  </tbody>\n",
       "</table>\n",
       "</div>"
      ],
      "text/plain": [
       "            channel   attribution       per      Order\n",
       "0            DIRECT  74827.140718  0.333144  1st-order\n",
       "1    NATURAL SEARCH  63046.832910  0.280696  1st-order\n",
       "2             OTHER  24798.923053  0.110409  1st-order\n",
       "3             EMAIL  21402.537897  0.095288  1st-order\n",
       "4       PAID SEARCH  21015.715783  0.093566  1st-order\n",
       "5   REFERRAL ENGINE   8658.339461  0.038548  1st-order\n",
       "6         AFFILIATE   7096.532604  0.031595  1st-order\n",
       "7           DISPLAY   2974.462626  0.013243  1st-order\n",
       "8      SOCIAL MEDIA    788.514947  0.003511  1st-order\n",
       "9            DIRECT  75367.947633  0.335552  2nd-order\n",
       "10   NATURAL SEARCH  65774.130686  0.292838  2nd-order\n",
       "11            OTHER  23481.127608  0.104542  2nd-order\n",
       "12      PAID SEARCH  20693.530075  0.092131  2nd-order\n",
       "13            EMAIL  20152.363737  0.089722  2nd-order\n",
       "14  REFERRAL ENGINE   8646.636210  0.038496  2nd-order\n",
       "15        AFFILIATE   6903.978805  0.030738  2nd-order\n",
       "16          DISPLAY   2913.766967  0.012973  2nd-order\n",
       "17     SOCIAL MEDIA    675.518280  0.003008  2nd-order\n",
       "18           DIRECT  75486.787825  0.336081  3rd-order\n",
       "19   NATURAL SEARCH  66653.931200  0.296755  3rd-order\n",
       "20            OTHER  23095.763866  0.102827  3rd-order\n",
       "21      PAID SEARCH  20603.015071  0.091728  3rd-order\n",
       "22            EMAIL  19698.557902  0.087702  3rd-order\n",
       "23  REFERRAL ENGINE   8687.619766  0.038679  3rd-order\n",
       "24        AFFILIATE   6863.924632  0.030559  3rd-order\n",
       "25          DISPLAY   2885.482919  0.012847  3rd-order\n",
       "26     SOCIAL MEDIA    633.916818  0.002822  3rd-order"
      ]
     },
     "execution_count": 182,
     "metadata": {},
     "output_type": "execute_result"
    }
   ],
   "source": [
    "attributions_df = attributions_df.reset_index(drop = True)\n",
    "attributions_df"
   ]
  },
  {
   "cell_type": "markdown",
   "metadata": {},
   "source": [
    "### 6.1 Comparing higher-order attribution  <a name=\"sse:attribution-results\"></a>\n",
    "\n",
    "Different orders of Markov chain will result in different attribution distribution among channels. To compare the three model in this notebook, channel attributions of `attributions_df` are compared by a grouped bar plot. Notice that while the relative performance of channels follows the same pattern in general for this sample data set, higher-order Markov chain assign considerably more attribution to `NATURAL SEARCH` compared to the first-order model."
   ]
  },
  {
   "cell_type": "code",
   "execution_count": 217,
   "metadata": {},
   "outputs": [
    {
     "data": {
      "image/png": "[encoded data removed]",
      "text/plain": [
       "<Figure size 1080x720 with 1 Axes>"
      ]
     },
     "metadata": {
      "needs_background": "light"
     },
     "output_type": "display_data"
    }
   ],
   "source": [
    "fig, ax = plt.subplots(figsize = (15, 10))\n",
    "\n",
    "g = sns.barplot(x = \"channel\",\n",
    "            y = \"attribution\", \n",
    "            hue = \"Order\", \n",
    "            data = attributions_df, \n",
    "            ci = None)\n",
    "\n",
    "for i, p in enumerate(ax.patches):\n",
    "    height = p.get_height()\n",
    "    ax.text(p.get_x() + p.get_width()/2., \n",
    "            p.get_height() + 1000, \n",
    "            str(round(attributions_df.loc[attributions_df.index == i, 'per'].values[0] * 100, 2)) + '%', \n",
    "            fontsize = 10, \n",
    "            color = 'black',\n",
    "            rotation = '90',\n",
    "            ha = 'left', \n",
    "            va = 'bottom')\n",
    "    \n",
    "g.set_xticklabels(ax.get_xticklabels(), rotation = 0, ha = 'center')\n",
    "g.set_title('Markov chain attributions', fontsize = 25)\n",
    "g.set_ylim(0, 85000)\n",
    "plt.xlabel(\"\", labelpad = 60, fontsize = 20)\n",
    "plt.ylabel(\"Attribution\", labelpad = 40, fontsize = 20)\n",
    "plt.tight_layout()\n",
    "plt.show()"
   ]
  },
  {
   "cell_type": "markdown",
   "metadata": {},
   "source": [
    "## 7. Order estimation of Markov Chains <a name=\"se:order\"></a>"
   ]
  },
  {
   "cell_type": "markdown",
   "metadata": {},
   "source": [
    "While higher-order Markov chain allow for more flexibility in conditioning transition probabilities, and should result in more accurate attributions, they suffer from a complexity problem since the number of states grows exponentially as the order of the chain increases. To decide on an optimal trade-off between model accuracy and model complexity, AIC and BIC statistics have been used by different researchers. However, recently, it has been proved that for the purpose of order estimation of Markov chain, AIC is an inconsistent metric.\n",
    "\n",
    "**It should be noted that this proof is limited to order estimation of Markov chains and the results do not hold true in comparing AIC and BIC metrics for other purposes**.\n",
    "\n",
    "For Markov chain, a more generalized metric that can be transformed to AIC and BIC has been introduced for which conditions of consistency is known. The more general metric is referred to as **Efficient Determination Criterion (EDC)**. For more details, review the paper by **C.Y. Dorea et al (2015)** on [Comparing the Markov Order Estimators AIC, BIC and EDC](#https://link.springer.com/chapter/10.1007/978-94-017-7236-5_4)."
   ]
  },
  {
   "cell_type": "markdown",
   "metadata": {},
   "source": [
    "### 7.1. Efficient Determination Criterion (EDC) <a name=\"sse:order-edc\"></a>\n",
    "\n",
    "EDC as a general form of both BIC and AIC metrics is given by \n",
    "\n",
    "$$\\text{EDC} = -2\\log L_m + \\gamma(m) c_n$$\n",
    "\n",
    "where $m$ denotes the order of Markov chain, $L_m$ is the likelihood, $\\gamma(m)$ is an increasing function of $m$, and $c_n$ is a function of sample size $n$. Setting $\\gamma(m)$ to $k$ and $c_n$ to $2$ where $k$ is the number of channels in a Markov chain will result in the classic AIC metric. To get the classic BIC, $\\gamma(m)$ can be set to $k$ while $c_n$ should be equal to $\\log n$.\n",
    "\n",
    "It is proved that the conditions of consistency are\n",
    "\n",
    "$$\\lim_{n\\to\\infty} \\frac{c_n}{n} \\to 0 \\qquad \\lim_{n\\to\\infty} \\frac{c_n}{\\log\\log n} \\to\\infty$$\n",
    "\n",
    "by which it can be concluded that AIC is not a consistent metric for order estimation of Markov chains. Notice that classic BIC and AIC metric for Markov chains do not really take the order of Markov chains into consideration apart from the inclusion of the liklihood function. Some sources prefer to modify the $\\gamma$ function for BIC metric to depend on the order as in $\\gamma(m) = k^m (k-1)$. In the implementation below, in `get_bic_aic` function, both AIC and BIC metrics are calculated, however, BIC is using the modified definition of the $\\gamma$ function."
   ]
  },
  {
   "cell_type": "code",
   "execution_count": 231,
   "metadata": {},
   "outputs": [],
   "source": [
    "def get_bic_aic(freq_df, unique_channel_lst, order): #input trans_prob_first(my_df)\n",
    "    import numpy as np\n",
    "    n = freq_df.freq.sum()\n",
    "    order = order \n",
    "    #keep only non zero frequencies\n",
    "    k = len(unique_channel_lst)\n",
    "    #k = df.from_state.nunique()\n",
    "    #keep only non zero frequencies\n",
    "    freq_df = freq_df[freq_df['freq'] != 0]\n",
    "    freq_df.reset_index(inplace = True, drop = True)\n",
    "    #loglikehood\n",
    "    ll = 0\n",
    "    for i in range(freq_df.shape[0]):\n",
    "        ll += freq_df['freq'][i]*np.log(freq_df['prob'][i])\n",
    "    bic = -2*ll + ((k**order)*(k-1)*np.log(n))\n",
    "    aic = -2*ll + 2**1\n",
    "    print(f'BIC: {bic}, AIC:{aic}' )\n",
    "    #print(f'LL: {ll}')\n",
    "    return bic, aic"
   ]
  },
  {
   "cell_type": "markdown",
   "metadata": {},
   "source": [
    "The following shows AIC and BIC metrics for different orders of Markov chain. According to both AIC and BIC metric, the 2nd-order Markov chain is the best model to describe customer journey transition probabilitis."
   ]
  },
  {
   "cell_type": "code",
   "execution_count": 232,
   "metadata": {},
   "outputs": [
    {
     "name": "stdout",
     "output_type": "stream",
     "text": [
      "BIC: 5832322.5716667995, AIC:5830426.352209581\n"
     ]
    },
    {
     "data": {
      "text/plain": [
       "(5832322.5716667995, 5830426.352209581)"
      ]
     },
     "execution_count": 232,
     "metadata": {},
     "output_type": "execute_result"
    }
   ],
   "source": [
    "get_bic_aic(freq1_df, unique_channel_lst, 1)"
   ]
  },
  {
   "cell_type": "code",
   "execution_count": 233,
   "metadata": {},
   "outputs": [
    {
     "name": "stdout",
     "output_type": "stream",
     "text": [
      "BIC: 5721868.41274137, AIC:5699091.779254748\n"
     ]
    },
    {
     "data": {
      "text/plain": [
       "(5721868.41274137, 5699091.779254748)"
      ]
     },
     "execution_count": 233,
     "metadata": {},
     "output_type": "execute_result"
    }
   ],
   "source": [
    "get_bic_aic(freq2_df, unique_channel_lst, 2)"
   ]
  },
  {
   "cell_type": "code",
   "execution_count": 234,
   "metadata": {},
   "outputs": [
    {
     "name": "stdout",
     "output_type": "stream",
     "text": [
      "BIC: 5924589.2043184275, AIC:5651247.602478962\n"
     ]
    },
    {
     "data": {
      "text/plain": [
       "(5924589.2043184275, 5651247.602478962)"
      ]
     },
     "execution_count": 234,
     "metadata": {},
     "output_type": "execute_result"
    }
   ],
   "source": [
    "get_bic_aic(freq3_df, unique_channel_lst, 3)"
   ]
  }
 ],
 "metadata": {
  "kernelspec": {
   "display_name": "Python 3",
   "language": "python",
   "name": "python3"
  },
  "language_info": {
   "codemirror_mode": {
    "name": "ipython",
    "version": 3
   },
   "file_extension": ".py",
   "mimetype": "text/x-python",
   "name": "python",
   "nbconvert_exporter": "python",
   "pygments_lexer": "ipython3",
   "version": "3.8.5"
  },
  "toc": {
   "base_numbering": 1,
   "nav_menu": {},
   "number_sections": true,
   "sideBar": true,
   "skip_h1_title": false,
   "title_cell": "Table of Contents",
   "title_sidebar": "Contents",
   "toc_cell": true,
   "toc_position": {
    "height": "calc(100% - 180px)",
    "left": "10px",
    "top": "150px",
    "width": "262px"
   },
   "toc_section_display": true,
   "toc_window_display": true
  },
  "varInspector": {
   "cols": {
    "lenName": 16,
    "lenType": 16,
    "lenVar": 40
   },
   "kernels_config": {
    "python": {
     "delete_cmd_postfix": "",
     "delete_cmd_prefix": "del ",
     "library": "var_list.py",
     "varRefreshCmd": "print(var_dic_list())"
    },
    "r": {
     "delete_cmd_postfix": ") ",
     "delete_cmd_prefix": "rm(",
     "library": "var_list.r",
     "varRefreshCmd": "cat(var_dic_list()) "
    }
   },
   "types_to_exclude": [
    "module",
    "function",
    "builtin_function_or_method",
    "instance",
    "_Feature"
   ],
   "window_display": false
  }
 },
 "nbformat": 4,
 "nbformat_minor": 5
}
